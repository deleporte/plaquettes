{
 "cells": [
  {
   "cell_type": "markdown",
   "metadata": {},
   "source": [
    "## Table of contents\n",
    "* Mathematical Background\n",
    "    * The Null space and its orthogonal\n",
    "    * Probabilistic interpretation of the curvature\n",
    "* Code documentation\n",
    "    * A convenient basis\n",
    "    * The Markov chain\n",
    "    * Computation of the curvature\n",
    "* Appendix\n",
    "    * Lemmas: the structure of zero modes"
   ]
  },
  {
   "cell_type": "markdown",
   "metadata": {},
   "source": [
    "# Mathematical Background\n",
    "\n",
    "We investigate constant plaquettes of size d, with one plaquette per site. In order terms, we consider the map $$\\begin{matrix}\\mathbb{C}^{2^d}&\\mapsto &(\\mathbb{C}^2)^{\\otimes N}\\\\(C^{\\delta_1\\ldots \\delta_d}) &\\mapsto & \\sum_{\\epsilon}\\prod_{i=1}^{N}C^{\\epsilon_i\\cdots \\epsilon_{i+d-1}}|\\epsilon\\rangle,\\end{matrix}$$ which to $C$ associates $|\\phi(C)>$. This map is holomorphic.\n",
    "\n",
    "We focus on the local geometry of this map. As we will see, it is never an immersion. The null tangential vectors are explicit, and we will also give a basis of their orthogonal space.\n",
    "\n",
    "We also give a numerical scheme to compute, up to machine precision, the curvature, which is a symmetric 2-form on the holomorphic tangent space: $$G(\\eta,\\xi)=\\overline{\\partial}_{\\eta}\\partial_{\\xi}\\log(\\langle\\phi(C)|\\phi(C)\\rangle).$$ This form is positive, as the Levi form of a plurisubharmonic function, but it is definite positive only when restricted to the orthogonal of the null space above."
   ]
  },
  {
   "cell_type": "markdown",
   "metadata": {},
   "source": [
    "## The Null space\n",
    "\n",
    "In order to understand completely the geometry of the image set above, we will make two simplifying assumptions:\n",
    "* N is a multiple of d(d-1);\n",
    "* All coefficients $C^{\\delta_1,\\ldots,\\delta_d}$ are non-zero.\n",
    "\n",
    "The first hypothesis might seem strange, since we are mainly interested in the large $N$ case. In fact, when $N$ is a multiple of $d(d-1)$ the proofs are much simpler, and when it is not the case (or when we consider plaquettes on a chain, without periodicity), one must add terms to $G$, of order $N^{-1}$.\n",
    "\n",
    "The second hypothesis is of course true in a generic configuration; it is also true along a (real) one-dimensional family of configurations. As we are interested in time evolution, one can argue that this hypothesis will remain valid along trajectories.\n",
    "\n",
    "As all coefficients are non-zero, we make use of the projective properties of the map $\\phi$ to consider a basis for variations of parameters which is more convenient than the natural one. If $\\alpha \\in (\\mathbb{C}^2)^{\\otimes d}$, we let $$\\alpha \\cdot |\\phi(C)\\rangle=\\sum_{\\delta}\\alpha_{\\delta}C^{\\delta}\\partial_{C^{\\delta}}|\\phi(C)\\rangle.$$\n",
    "\n",
    "This is motivated by the fact that $$C^{\\delta}\\partial_{C^{\\delta}}|\\phi(C)\\rangle=\\sum_{i=1}^N\\sum_{\\large{\\epsilon\\in A_i^{\\delta}}}\\prod_{j=1}^NC^{\\epsilon_j\\ldots \\epsilon_{j+d-1}}|\\epsilon\\rangle.$$ Here, $$A_i^{\\delta}=\\{\\epsilon\\,|\\,\\epsilon_i=\\delta_1,\\ldots,\\epsilon_{i+d-1}=\\delta_d\\}.$$\n"
   ]
  },
  {
   "cell_type": "markdown",
   "metadata": {},
   "source": [
    "The main result is\n",
    "\n",
    "**Theorem 1** $\\alpha\\cdot |\\phi(C)\\rangle=0$ if and only if $\\alpha=(|0\\rangle+|1\\rangle)\\otimes v-v\\otimes(|0\\rangle+|1\\rangle)$ for some $v\\in (\\mathbb{C}^2)^{\\otimes d-1}$.\n",
    "\n",
    "*Proof of Theorem 1* One inclusion proceeds by direct computation. Indeed, if $v=\\sum v_{\\delta}|\\delta\\rangle$, then\n",
    "\n",
    "$$(|0\\rangle+|1\\rangle)\\otimes v \\cdot |\\phi(C)\\rangle = \\sum_{\\delta}\\sum_{i=1}^Nv_{\\delta}\\sum_{\\large{\\epsilon\\in A_i^{0\\delta}\\cup A_i^{1\\delta}}}\\prod_{j=1}^NC^{\\epsilon_j\\cdots \\epsilon_{j+d-1}}|\\epsilon\\rangle,$$ and $$A_i^{0\\delta}\\cup A_i^{1\\delta}=A_{i+1}^{\\delta0}\\cup A_{i+1}^{\\delta_1},$$ so that $$(|0\\rangle+|1\\rangle)\\otimes v-v\\otimes(|0\\rangle+|1\\rangle) \\cdot |\\phi(C)\\rangle=0.$$\n",
    "\n",
    "The other inclusion is less direct and makes full uses of the hypotheses above.\n",
    "\n",
    "Since all coefficients are non-zero, then $\\alpha\\cdot |\\phi(C)\\rangle=0$ if and only if, for every $\\epsilon$, one has $\\sum_{i=1}^N\\alpha_{\\epsilon_i\\cdots \\epsilon_{i+d-1}}=0.$\n",
    "\n",
    "In particular, let $\\delta\\in \\{0,1\\}^d$ arbitrary, and let $\\epsilon=\\delta \\delta \\delta...$ a concatenation of size $N$. (We assumed that $N$ is a multiple of $d$). Then the equation above yields $\\sum_{k=0}^{d-1}\\alpha_{ls(d)}=0$, with $ls$ the operator of left shift.\n",
    "\n",
    "In particular, $$\\sum_{k=0}^{d-1}ls^k(\\alpha)=0.$$\n",
    "\n",
    "Using Lemma 1 in the Appendix, it follows that $\\alpha=v-ls(v)$ for some $v$.\n",
    "\n",
    "We will now prove that, for every word $w\\in \\{a,b\\}^{d-2}$, one has $$\\alpha_{0w0}+\\alpha_{1w1}-\\alpha_{0w1}-\\alpha{1w0}=0.$$ Using Lemma 3, with $a=\\frac{|0\\rangle+|1\\rangle}{\\sqrt{2}}$ and $b=\\frac{|0\\rangle-|1\\rangle}{\\sqrt{2}}$, this will conclude the proof.\n",
    "\n",
    "Recall that each $\\epsilon \\in \\{0,1\\}^N$ yields an equation on $\\alpha$. Substracting the equation given by $\\epsilon=...0w0w1w0w0...$ (recall N is a multiple of $d-1$) from the one given by $\\epsilon=...0w0w0...$ yields $$\\alpha_{0w1}+\\ldots+\\alpha_{1w0}=\\alpha_{0w0}.$$\n",
    "\n",
    "Now, substracting the equation given by $\\epsilon=...0w0w1w1w0w0...$ from $\\epsilon=...0w0w0...$ yields $$\\alpha_{0w1}+\\ldots+\\alpha_{1w0}-\\alpha_{1w0}+\\alpha{1w1}-\\alpha{0w1}+\\alpha{0w1}+\\ldots+\\alpha{1w0}=\\alpha{0w0}.$$\n",
    "Hence,\n",
    "$$\\alpha_{1w1}+\\alpha_{0w0}=\\alpha_{0w1}-\\alpha_{1w0}.$$\n",
    "This concludes the proof."
   ]
  },
  {
   "cell_type": "markdown",
   "metadata": {},
   "source": [
    "## Probabilistic interpretation of the curvature\n",
    "\n",
    "The expression of the derivative of $|\\phi(C)\\rangle$ along a base vector was formulated as a sum with the same terms as the initial sum, but restricted on some configuration set $A^{\\delta}_i$. These sums are ubiquitous in the computation of the curvature, which will allow a probabilistic reformulation. Since we are dealing with one-dimensional loops, the probabilistic model will be a Markov chain (restricted to identical final and initial states). If all coefficients are non-zero, this Markov chain is mixing, and this will allow a precise numerical treatment.\n",
    "\n",
    "We want to compute $$G(\\alpha,\\beta)=\\alpha\\overline{\\cdot}\\beta\\cdot \\log(\\langle \\phi(C)|\\phi(C)\\rangle).$$ Here, $\\overline{\\cdot}$ stands for anti-holomorphic derivation. This is exactly $$G(\\alpha,\\beta)=\\cfrac{\\langle \\alpha\\cdot \\phi(C)|\\beta\\cdot \\phi(C)\\rangle}{\\langle \\phi(C)|\\phi(C)\\rangle} - \\cfrac{\\langle \\alpha\\cdot \\phi(C)|\\phi(C)\\rangle \\langle \\phi(C)|\\beta\\cdot \\phi(C)\\rangle}{(\\langle \\phi(C)|\\phi(C)\\rangle)^2}.$$\n",
    "\n",
    "Now $$\\langle \\phi(C)|\\phi(C)\\rangle=\\sum_{\\epsilon}\\prod_{j=1}^N|C^{\\epsilon_j\\ldots\\epsilon_{j+d-1}}|^2.$$ Moreover, if $\\alpha=C^{\\delta}\\partial_{C^{\\delta}}$ and $\\beta=C^{\\delta'}\\partial_{C^{\\delta'}}$, then\n",
    "\n",
    "$$\\langle \\alpha\\cdot \\phi(C)|\\phi(C)\\rangle=\\sum_{i=1}^N\\sum_{\\large{\\epsilon\\in A^{\\delta}_i}}\\prod_j|C^{\\epsilon_j\\ldots \\epsilon_{j+d-1}}|^2.$$ Finally,\n",
    "\n",
    "$$\\langle \\alpha\\cdot \\phi(C)|\\beta\\cdot \\phi(C)\\rangle=\\sum_{i_1=1}^N\\sum_{i_2=1}^N\\sum_{\\large{\\epsilon\\in A^{\\delta}_{i_1}\\cap A^{\\delta'}_{i_2}}}\\prod_j|C^{\\epsilon_j\\ldots \\epsilon_{j+d-1}}|^2.$$\n",
    "\n",
    "Those expressions are quite clumsy. Let $(\\{0,1\\}^N,\\mathcal{P}(\\{0,1\\}^N),\\mathbb{P}_C)$ be a probabilized space whose elementary events are words of length $N$ on $\\{0,1\\}$, with $$\\mathbb{P}_C(\\epsilon)=(\\prod_{j=1}^N|C^{\\epsilon_j\\cdots \\epsilon_{j+d-1}}|^2)\\langle \\phi(C)|\\phi(C)\\rangle^{-1}.$$\n",
    "\n",
    "Then the matrix elements of $G$ are simply $$G_{\\delta,\\delta'}=\\sum_i\\sum_j\\mathbb{P}_C(A^{\\delta}_i\\cap A^{\\delta'}_j)-\\mathbb{P}_C(A^{\\delta}_i)\\mathbb{P}_C(A^{\\delta}_j).$$\n",
    "\n",
    "To evaluate those probabilities, we will reformulate this probabilized space with a Markov chain.\n",
    "\n",
    "Consider the Markov chain, with $\\{0,1\\}^d$ as set of states, with transition matrix:\n",
    "$$T(\\delta_1\\ldots \\delta_d,\\delta_2\\ldots\\delta_{d+1})=\\cfrac{|C^{\\delta_2\\ldots\\delta_{d+1}}|^2}{|C^{\\delta_2\\ldots \\delta_d 0}|^2+|C^{\\delta_2\\ldots \\delta_d 1}|^2}.$$\n",
    "\n",
    "Consider realisations of this Markov chain, of length $N+1$, conditionned to having the same final and initial state. Since the $d-1$ last digits at one time coincide with the $d-1$ first digits at the following time, this realisation is a sequence of $0$ and $1$, of length $N+d$ (where the state, at step $j$, consists of the digits $j$ to $j+d-1$.). Moreover, the $N+1$ digits corresponds to the first one, and so on. Then the probability of this sequence $\\epsilon$ is exactly $\\mathbb{P}_C(\\epsilon)$, as long as the initial state is chosen according to the law of $A_1$.\n",
    "\n",
    "The matrix $T$ verifies the hypotheses of the Perron-Frobenius theorem: since all coefficients are non-zero, the matrix $T^d$ has only positive entries. In particular $T$ has 1 as only eigenvalue of modulus one (all other eigenvalues have strictly smaller modulus), and this eigenvalue is simple. From there we are able to identify the law of $A_i$. Indeed, on one hand the original probability space is rotation invariant so that $A_i$ and $A_j$ have the same law for any $i$ and $j$; on the other hand the law of $A_{i+1}$ (which is a $2^d$-dimensional vector) is $T$ times the law of $A_i$, plus an error of size $e^{-cN}$. Hence, if $\\mu_C$ is the equilibrium measure for $T$, then $$\\mathbb{P}_C(A^{\\delta}_i)=\\mu_C(\\delta)+O(e^{-cN}).$$\n",
    "\n",
    "Along the same lines, if $j$ is closer from $i$ to the left than to the right (meaning $j$ is between $i$ and $i+N/2$ on $\\mathbb{Z}/N\\mathbb{Z}$, then $$\\mathbb{P}_C(A^{\\delta'}_j|A^{\\delta}_i)=T^{j-i}[\\delta',\\delta]+O(e^{-cN}).$$ In particular, $$\\mathbb{P}_C(A^{\\delta'}_j|A^{\\delta}_i)=\\mathbb{P}_C(A^{\\delta'}_j+O(e^{-c|i-j|}).$$ The intuition of this estimate is that, if $i$ and $j$ are far apart (more than the reduced spectral radius of $T$ allows for), then $A_i$ and $A_j$ are independent up to an exponentially small error.\n",
    "\n",
    "This offers a numerical scheme to compute $G$ up to machine precision. First, we compute and store the sequence of positive powers of $T$, until they converge to a matrix of rank one (at step $k_{M}$). Each line of this matrix is the invariant measure $\\mu_C$. Then $$N^{-1}G_{\\delta,\\delta'}=\\sum_{j=0}^{k_M}\\mu_C(\\delta)(T^j_{\\delta',\\delta}-\\mu_C(\\delta'))+\\sum_{j=1}^{k_M}\\mu_C(\\delta')(T^j_{\\delta,\\delta'}-\\mu_C(\\delta'))+ O(\\text{machine precision})+O(Ne^{-N}).$$"
   ]
  },
  {
   "cell_type": "markdown",
   "metadata": {},
   "source": [
    "# Code documentation\n",
    "First and foremost, we need to import standard numerical libraries, as well as scipy.linalg to show the spectrum of the curvature form"
   ]
  },
  {
   "cell_type": "code",
   "execution_count": 6,
   "metadata": {
    "collapsed": true
   },
   "outputs": [],
   "source": [
    "import numpy as np, random, scipy.linalg"
   ]
  },
  {
   "cell_type": "markdown",
   "metadata": {},
   "source": [
    "## A convenient basis\n"
   ]
  },
  {
   "cell_type": "markdown",
   "metadata": {},
   "source": [
    "The file curv_basis.py contains the decomposition along the null space and a complementary subspace, according to the discussion above."
   ]
  },
  {
   "cell_type": "code",
   "execution_count": 7,
   "metadata": {
    "collapsed": true
   },
   "outputs": [],
   "source": [
    "# %load ../curv_basis.py\n",
    "# a tentative basis\n",
    "\n",
    "def lshift(c,d):\n",
    "    return (2*c)%(2**d)+c/(2**(d-1))\n",
    "\n",
    "def rtldigits(c,d):\n",
    "    \"\"\"Returns the reversed digits of c in base 2, of length d\"\"\"\n",
    "    ccopy=c\n",
    "    dig=[]\n",
    "    for j in range(d):\n",
    "        dig.append(ccopy%2)\n",
    "        ccopy=ccopy/2\n",
    "    return np.array(dig)\n",
    "\n",
    "def rotation(d=3):\n",
    "    \"\"\"Rotates from the base along z, to the base along x.\"\"\"\n",
    "    U=np.zeros((2**d,2**d))\n",
    "    for c in range(2**d):\n",
    "        for k in range(2**d):\n",
    "            U[c,k]=(-1)**(sum((1-rtldigits(c,d))*(1-rtldigits(k,d))))/2**(0.5*d)\n",
    "    return U\n",
    "\n",
    "def fullbasis(d=3):\n",
    "    U=np.zeros((2**d,2**d))\n",
    "    line=0\n",
    "    #First we look at the zero vectors\n",
    "    #they look like 1c-c1 for some c\n",
    "    #but we have to give an orthogonal basis !\n",
    "    for j in range(d-2):\n",
    "        for c in range(2**j):\n",
    "            #we consider the vectors from 1...10c0 to 0c01.....1 of size d-1\n",
    "            #here they form a Toeplitz matrix of rank d-2-j,\n",
    "            #which can easily be diagonalized\n",
    "            for k in range(d-2-j):\n",
    "                for l in range(d-2-j):\n",
    "                    vect=2**(d-1)-2**(l+j+2)+c*2**(l+1)+2**l-1\n",
    "                    val=np.sin(np.pi*(k+1)*(l+1)/(d-1-j))\n",
    "                    U[line+k,2**(d-1)+vect]+=val\n",
    "                    U[line+k,2*vect+1]-=val\n",
    "                U[line+k]/=np.sqrt(np.dot(U[line+k],U[line+k]))\n",
    "            line+=d-2-j\n",
    "    #then we only forgot the vectors 1.....10 to 01......1\n",
    "    for k in range(d-1):\n",
    "        for l in range(d-1):\n",
    "            vect=2**(d-1)-1-2**l\n",
    "            val=np.sin(np.pi*(k+1)*(l+1)/d)\n",
    "            U[line+k,2**(d-1)+vect]+=val\n",
    "            U[line+k,2*vect+1]-=val\n",
    "        U[line+k]/=np.sqrt(np.dot(U[line+k],U[line+k]))\n",
    "    #The vector 1...1 is itself orthogonal\n",
    "    line+=d-1\n",
    "    U[line,2**d-1]=1.\n",
    "    line+=1\n",
    "    #There are several types of orthogonal (nonzero) vectors:\n",
    "    #All 0c0 vectors\n",
    "    for c in range(2**(d-2)):\n",
    "        U[line+c,2*c]=1\n",
    "    line+=2**(d-2)\n",
    "    #All 10c0+0c01 vectors\n",
    "    for c in range(2**(d-3)):\n",
    "        U[line+c,2*c+2**(d-1)]=1./np.sqrt(2)\n",
    "        U[line+c,4*c+1]=1./np.sqrt(2)\n",
    "    line += 2**(d-3)\n",
    "    #Some weird vectors\n",
    "    for c in range(2**(d-3)):\n",
    "        current=2*c+2**(d-1)+2**(d-2)\n",
    "        shiftlist=[current]\n",
    "        while current>=2**(d-1):\n",
    "            current=lshift(current,d)\n",
    "            shiftlist.append(current)\n",
    "        for shifted in shiftlist:\n",
    "            U[line+c,shifted]=1./np.sqrt(len(shiftlist))\n",
    "    return U\n"
   ]
  },
  {
   "cell_type": "markdown",
   "metadata": {},
   "source": [
    "The first step is the function rotation, which returns the matrix which exchanges the basis given by $(|0\\rangle,|1\\rangle)$ with the basis given by $(2^{-\\frac 12}(|0\\rangle+|1\\rangle),2^{-\\frac 12}(|0\\rangle+|1\\rangle))$, on $(\\mathbb{C}^2)^{\\otimes N}$.\n",
    "\n",
    "The second step is the function fullbasis, which computes the decomposition of the space given by Lemma 2 (with $a=|0\\rangle$ and $b=|1\\rangle$. Here, the non-trivial part is to give an orthonormal basis of the space $E$.\n",
    "\n",
    "Indeed, if $v$ is a base vector, $\\langle a\\otimes v-v\\otimes a|a\\otimes v'-v'\\otimes a\\rangle$ is equal to $2$ if $v=v'$ (unless $v=aa.....a$), and otherwise is equal to $-1$ if $v\\otimes a=a\\otimes v'$ (which happens only if $v$ begins by an $a$ and $v'=ls(v)$) or if $v'\\otimes a=a\\otimes v$ (which happens only if $v$ ends by an $a$ and $v=ls(v')$). The exceptional case when both $v\\otimes a=a\\otimes v'$ and $v'\\otimes a=a\\otimes v$ means that $v=awa$ and $v'=aw'a$ with $v'=ls(v)$ so that $v=a...a$, a case which was excluded a priori.\n",
    "\n",
    "Hence, the structure of the matrix given by the previous scalar product is formed of tridiagonal Toeplitz matrices, with $2$ on the diagonal and $-1$ on the over- and underdiagonal; these matrices can be explicitly diagonalized.\n",
    "\n",
    "The natural basis of $F$ and $G$ given in Lemma 2 is orthogonal (as every word appears only once, either in $F$, or in $G$), and requires only a normalization."
   ]
  },
  {
   "cell_type": "code",
   "execution_count": 10,
   "metadata": {},
   "outputs": [
    {
     "data": {
      "text/plain": [
       "3.6332767765565026e-15"
      ]
     },
     "execution_count": 10,
     "metadata": {},
     "output_type": "execute_result"
    }
   ],
   "source": [
    "#We check that the change of basis U is indeed orthogonal\n",
    "U=np.dot(fullbasis(4),rotation(4))\n",
    "np.sum(np.abs(np.dot(U,U.T)-np.eye(2**4)))"
   ]
  },
  {
   "cell_type": "markdown",
   "metadata": {},
   "source": [
    "## Computation of the curvature"
   ]
  },
  {
   "cell_type": "markdown",
   "metadata": {},
   "source": [
    "The file curvature.py encodes the Markov chain to compute the curvature."
   ]
  },
  {
   "cell_type": "code",
   "execution_count": 36,
   "metadata": {},
   "outputs": [],
   "source": [
    "# %load ../curvature.py\n",
    "import numpy as np\n",
    "\n",
    "def generate_C(d,m=1,M=2):\n",
    "    \"\"\"\n",
    "    Generates a bunch of randomly chosen coefficients, far from zero\n",
    "    \"\"\"\n",
    "    C=[]\n",
    "    for k in range(2**d):\n",
    "        C.append(random.random()*(M-m)+m)\n",
    "    return C\n",
    "\n",
    "def sparse_mult(mat,C):\n",
    "    \"\"\"returns an efficient multiplication of mat by the transfer matrix.\n",
    "    Runs in quadratic time.\n",
    "    \"\"\"\n",
    "    prod=np.zeros((len(C),len(C)),dtype=float)\n",
    "    for i in range(len(C)):\n",
    "        for j in range(len(C)):\n",
    "            prod[i,j]=mat[i,(2*j)%len(C)]*C[(2*j)%len(C)]\n",
    "            prod[i,j]+=mat[i,(2*j+1)%len(C)]*C[(2*j+1)%len(C)]\n",
    "            prod[i,j]/=C[(2*j)%len(C)]+C[(2*j+1)%len(C)]\n",
    "    return prod\n",
    "\n",
    "def Markov_powers(C,ERROR=1.0e-14):\n",
    "    \"\"\"Computes the powers of the Markov chain\n",
    "    for constant plaquettes\"\"\"\n",
    "    powerseq=[np.eye(len(C))]\n",
    "    converged=False\n",
    "    while not converged:\n",
    "        current=powerseq[-1]\n",
    "        new=sparse_mult(current,C)\n",
    "        powerseq.append(new)\n",
    "        dist=0.\n",
    "        for k in range(len(C)/2):\n",
    "            dist+=abs(new[k,0]-new[k,1])\n",
    "        if dist<ERROR:\n",
    "            converged=True\n",
    "        #print dist\n",
    "    print \"Markov chain convergence after\",len(powerseq),\"steps\"\n",
    "    return powerseq\n",
    "\n",
    "def curvature(C,ERROR=1.0e-14):\n",
    "    \"\"\"Computes, via a Markov chain, the curvature tensor\n",
    "    for constant plaquettes up to some prescribed error.\"\"\"\n",
    "    #compute the sequence (M**i) until convergence\n",
    "    powerseq=Markov_powers(C,ERROR)\n",
    "    #the lines of the last matrix are the equilibium measure\n",
    "    eq_m=powerseq[-1].T[1]\n",
    "    print \"Equilibrium measure: \", eq_m\n",
    "    G=np.zeros((len(C),len(C)),dtype=float)\n",
    "    M=powerseq[1]\n",
    "    for i in range(len(C)):\n",
    "        for j in range(len(C)):\n",
    "            for k in range(len(powerseq)):\n",
    "                current=powerseq[k]\n",
    "                G[i,j]+=eq_m[j]*(current[i,j]-eq_m[i])\n",
    "                if k !=0:\n",
    "                    G[i,j]+=eq_m[i]*(current[j,i]-eq_m[j])\n",
    "    return G\n"
   ]
  },
  {
   "cell_type": "markdown",
   "metadata": {},
   "source": [
    "We first have to generate the square norm of the coefficients $C$; here they are chosen as uniform independent random variables, shifted away from zero (as we want to ensure that all coefficients are non-zero)"
   ]
  },
  {
   "cell_type": "code",
   "execution_count": 29,
   "metadata": {
    "collapsed": true
   },
   "outputs": [],
   "source": [
    "C=generate_C(4)"
   ]
  },
  {
   "cell_type": "markdown",
   "metadata": {},
   "source": [
    "Then we can compute the curvature (which, for the moment, is expressed in the canonical basis)."
   ]
  },
  {
   "cell_type": "code",
   "execution_count": 30,
   "metadata": {},
   "outputs": [
    {
     "name": "stdout",
     "output_type": "stream",
     "text": [
      "Markov chain convergence after 28 steps\n",
      "Equilibrium measure:  [ 0.06593233  0.06593233  0.06593233  0.06593233  0.06593233  0.06593233\n",
      "  0.06593233  0.06593233  0.06593233  0.06593233  0.06593233  0.06593233\n",
      "  0.06593233  0.06593233  0.06593233  0.06593233]\n"
     ]
    }
   ],
   "source": [
    "G=curvature(C)"
   ]
  },
  {
   "cell_type": "markdown",
   "metadata": {},
   "source": [
    "As a control tool, we printed the step at which the Markov chain converges, and the equilibrium measure.\n",
    "\n",
    "The matrix G is indeed quite complicated at this step."
   ]
  },
  {
   "cell_type": "code",
   "execution_count": 31,
   "metadata": {},
   "outputs": [
    {
     "data": {
      "text/plain": [
       "array([[ 0.12079683,  0.01868093,  0.02433448, -0.0520446 ,  0.00980465,\n",
       "         0.00077367, -0.02646006, -0.06262341,  0.01306434, -0.04383427,\n",
       "        -0.01222305, -0.03632284, -0.0386991 , -0.04697555, -0.06144793,\n",
       "        -0.09567781],\n",
       "       [ 0.01868093,  0.03719649,  0.04555878, -0.03597877,  0.03205749,\n",
       "         0.02154706, -0.00724178, -0.04631423,  0.03719649, -0.02570038,\n",
       "         0.00860077, -0.01760151, -0.0194001 , -0.02899533, -0.04444558,\n",
       "        -0.08158242],\n",
       "       [ 0.02433448,  0.04555878,  0.10538214, -0.02983611,  0.08280016,\n",
       "         0.06811761,  0.01273264, -0.02624532,  0.04354887,  0.04826315,\n",
       "         0.0436504 ,  0.01445223,  0.00645563, -0.01043733, -0.02264732,\n",
       "        -0.05969143],\n",
       "       [-0.0520446 , -0.03597877, -0.02983611, -0.02491824, -0.02606115,\n",
       "        -0.03128535, -0.01585035, -0.05925567, -0.03358719, -0.03291576,\n",
       "        -0.02405177, -0.04801437, -0.03826724, -0.0368785 , -0.05944477,\n",
       "        -0.10090832],\n",
       "       [ 0.00980465,  0.03205749,  0.08280016, -0.02606115,  0.0886252 ,\n",
       "         0.04299713,  0.00129319, -0.036587  ,  0.0307714 ,  0.03393167,\n",
       "         0.04625761, -0.01043873, -0.02570038, -0.0046476 , -0.03361179,\n",
       "        -0.06955859],\n",
       "       [ 0.00077367,  0.02154706,  0.06811761, -0.03128535,  0.04299713,\n",
       "         0.13054025,  0.02713664, -0.01476198,  0.01921379,  0.02461825,\n",
       "         0.10863761,  0.04149167, -0.00206886,  0.02133641, -0.01088576,\n",
       "        -0.05084798],\n",
       "       [-0.02646006, -0.00724178,  0.01273264, -0.01585035,  0.00129319,\n",
       "         0.02713664,  0.05334758, -0.04992099, -0.00728592, -0.00451834,\n",
       "         0.0181607 ,  0.02934837, -0.01354083,  0.0190585 , -0.04801437,\n",
       "        -0.08341671],\n",
       "       [-0.06262341, -0.04631423, -0.02624532, -0.05925567, -0.036587  ,\n",
       "        -0.01476198, -0.04992099, -0.01751165, -0.04414243, -0.04326239,\n",
       "        -0.02047269, -0.01634178, -0.04887949, -0.02043683, -0.01751165,\n",
       "        -0.07303482],\n",
       "       [ 0.01306434,  0.03719649,  0.04354887, -0.03358719,  0.0307714 ,\n",
       "         0.01921379, -0.00728592, -0.04414243,  0.03719649, -0.02531871,\n",
       "         0.00699133, -0.01786543, -0.01773235, -0.02853542, -0.04227379,\n",
       "        -0.07719684],\n",
       "       [-0.04383427, -0.02570038,  0.04826315, -0.03291576,  0.03393167,\n",
       "         0.02461825, -0.00451834, -0.04326239, -0.02531871,  0.0432674 ,\n",
       "         0.01130515, -0.01453851, -0.01752592, -0.02592414, -0.04172214,\n",
       "        -0.07853059],\n",
       "       [-0.01222305,  0.00860077,  0.0436504 , -0.02405177,  0.04625761,\n",
       "         0.10863761,  0.0181607 , -0.02047269,  0.00699133,  0.01130515,\n",
       "         0.11378332,  0.02023658, -0.03008692,  0.03008267, -0.01721926,\n",
       "        -0.0539188 ],\n",
       "       [-0.03632284, -0.01760151,  0.01445223, -0.04801437, -0.01043873,\n",
       "         0.04149167,  0.02934837, -0.01634178, -0.01786543, -0.01453851,\n",
       "         0.02023658,  0.06075416, -0.02264482,  0.03589852, -0.01424606,\n",
       "        -0.05799444],\n",
       "       [-0.0386991 , -0.0194001 ,  0.00645563, -0.03826724, -0.02570038,\n",
       "        -0.00206886, -0.01354083, -0.04887949, -0.01773235, -0.01752592,\n",
       "        -0.03008692, -0.02264482, -0.00816131, -0.04971359, -0.04844581,\n",
       "        -0.08185108],\n",
       "       [-0.04697555, -0.02899533, -0.01043733, -0.0368785 , -0.0046476 ,\n",
       "         0.02133641,  0.0190585 , -0.02043683, -0.02853542, -0.02592414,\n",
       "         0.03008267,  0.03589852, -0.04971359,  0.04399723, -0.0189639 ,\n",
       "        -0.05652284],\n",
       "       [-0.06144793, -0.04444558, -0.02264732, -0.05944477, -0.03361179,\n",
       "        -0.01088576, -0.04801437, -0.01751165, -0.04227379, -0.04172214,\n",
       "        -0.01721926, -0.01424606, -0.04844581, -0.0189639 , -0.01751165,\n",
       "        -0.05100738],\n",
       "       [-0.09567781, -0.08158242, -0.05969143, -0.10090832, -0.06955859,\n",
       "        -0.05084798, -0.08341671, -0.07303482, -0.07719684, -0.07853059,\n",
       "        -0.0539188 , -0.05799444, -0.08185108, -0.05652284, -0.05100738,\n",
       "         0.00330667]])"
      ]
     },
     "execution_count": 31,
     "metadata": {},
     "output_type": "execute_result"
    }
   ],
   "source": [
    "G"
   ]
  },
  {
   "cell_type": "markdown",
   "metadata": {},
   "source": [
    "However, in the base given by the matrix $U$, the quadratic form is simpler."
   ]
  },
  {
   "cell_type": "code",
   "execution_count": 32,
   "metadata": {},
   "outputs": [
    {
     "data": {
      "text/plain": [
       "array([[ -1.19262239e-18,  -1.51246203e-17,  -2.37657116e-16,\n",
       "         -7.28583860e-17,  -3.36753195e-16,  -4.16333634e-17,\n",
       "          1.39292874e-16,  -9.55575310e-03,  -4.36796502e-03,\n",
       "         -1.84007254e-03,  -1.18455328e-03,  -1.06839465e-03,\n",
       "         -2.64077912e-03,  -5.88601066e-03,  -2.72535838e-03,\n",
       "         -3.09443734e-03],\n",
       "       [ -2.25176309e-17,  -1.08347413e-17,   1.55796801e-16,\n",
       "          9.13822461e-18,  -2.08924615e-16,  -3.00026641e-18,\n",
       "          7.20625956e-17,  -8.25490949e-16,   3.26652581e-03,\n",
       "          2.72420623e-03,   6.79287038e-05,  -1.16908858e-03,\n",
       "         -3.53953558e-03,  -4.70180981e-03,   2.55687631e-03,\n",
       "          1.19178489e-04],\n",
       "       [ -2.38416058e-16,   1.63389267e-16,   2.36898175e-17,\n",
       "          8.67361738e-18,  -3.45860493e-17,   1.51788304e-17,\n",
       "         -2.25514052e-17,  -1.90955413e-04,  -3.18632563e-03,\n",
       "         -5.17755852e-03,   6.94484488e-04,  -7.95677189e-04,\n",
       "          1.17185393e-03,   1.78828598e-03,  -1.35204986e-03,\n",
       "         -3.96693585e-03],\n",
       "       [ -7.47015297e-17,   1.69677640e-17,   1.30104261e-17,\n",
       "         -3.68628739e-18,  -2.19442520e-16,   1.90169061e-16,\n",
       "         -1.02511315e-16,   1.17009938e-03,   4.49657661e-04,\n",
       "         -6.94259673e-04,  -3.25418687e-03,  -4.96567311e-03,\n",
       "         -1.49775234e-03,  -3.16691008e-03,   7.54285303e-04,\n",
       "          1.83540704e-03],\n",
       "       [ -3.35126892e-16,  -2.17219905e-16,  -2.54245409e-17,\n",
       "         -2.22586706e-16,  -9.45424294e-17,  -8.13151629e-17,\n",
       "          2.06269463e-17,  -8.78974350e-03,   5.23925033e-04,\n",
       "          2.32907388e-04,  -6.29703374e-03,  -2.27179086e-03,\n",
       "         -1.09239175e-02,  -7.32843061e-03,  -4.70745253e-03,\n",
       "         -6.13076656e-03],\n",
       "       [ -2.61292724e-17,   3.65918233e-18,   1.30104261e-17,\n",
       "          1.89843800e-16,  -7.29668062e-17,  -6.44016090e-17,\n",
       "          1.28749008e-17,  -7.86870569e-15,   6.51673429e-05,\n",
       "         -1.93245500e-03,   4.61802492e-03,   3.23668734e-03,\n",
       "          3.60403012e-03,   1.09730190e-03,  -4.70792912e-03,\n",
       "         -7.35691120e-03],\n",
       "       [  1.35782984e-16,   7.01062146e-17,  -9.95500438e-18,\n",
       "         -9.47669125e-17,   1.19239373e-17,   1.38067885e-17,\n",
       "          4.75617530e-17,  -6.24667838e-04,  -1.31099255e-03,\n",
       "         -1.16459359e-03,  -3.70927797e-04,  -3.93783430e-04,\n",
       "          3.43362334e-03,   1.86751379e-03,  -5.47703432e-04,\n",
       "         -3.84367587e-03],\n",
       "       [ -9.55575310e-03,  -8.38549065e-16,  -1.90955413e-04,\n",
       "          1.17009938e-03,  -8.78974350e-03,  -7.86306784e-15,\n",
       "         -6.24667838e-04,  -1.99145162e-01,  -6.38711960e-02,\n",
       "         -2.47637725e-02,   5.62610458e-02,   2.81480184e-02,\n",
       "         -1.21053978e-02,   6.02936029e-02,  -3.05443262e-01,\n",
       "         -2.02083736e-01],\n",
       "       [ -4.36796502e-03,   3.26652581e-03,  -3.18632563e-03,\n",
       "          4.49657661e-04,   5.23925033e-04,   6.51673429e-05,\n",
       "         -1.31099255e-03,  -6.38711960e-02,   6.59323272e-02,\n",
       "         -8.76035355e-17,  -2.08166817e-17,   2.51534904e-17,\n",
       "         -3.18632563e-03,   4.49657661e-04,  -7.65942531e-03,\n",
       "         -9.01303532e-05],\n",
       "       [ -1.84007254e-03,   2.72420623e-03,  -5.17755852e-03,\n",
       "         -6.94259673e-04,   2.32907388e-04,  -1.93245500e-03,\n",
       "         -1.16459359e-03,  -2.47637725e-02,  -6.80878964e-17,\n",
       "          6.59323272e-02,   1.90819582e-17,  -3.03576608e-17,\n",
       "         -5.17755852e-03,  -6.94259673e-04,  -4.17992411e-03,\n",
       "          1.60648966e-03],\n",
       "       [ -1.18455328e-03,   6.79287038e-05,   6.94484488e-04,\n",
       "         -3.25418687e-03,  -6.29703374e-03,   4.61802492e-03,\n",
       "         -3.70927797e-04,   5.62610458e-02,  -2.73218947e-17,\n",
       "          2.34187669e-17,   6.59323272e-02,  -8.23993651e-17,\n",
       "          6.94484488e-04,  -3.25418687e-03,  -1.49880840e-03,\n",
       "         -1.30462407e-02],\n",
       "       [ -1.06839465e-03,  -1.16908858e-03,  -7.95677189e-04,\n",
       "         -4.96567311e-03,  -2.27179086e-03,   3.23668734e-03,\n",
       "         -3.93783430e-04,   2.81480184e-02,   2.90566182e-17,\n",
       "         -3.38271078e-17,  -8.67361738e-17,   6.59323272e-02,\n",
       "         -7.95677189e-04,  -4.96567311e-03,  -4.81840402e-04,\n",
       "         -6.41803920e-03],\n",
       "       [ -2.64077912e-03,  -3.53953558e-03,   1.17185393e-03,\n",
       "         -1.49775234e-03,  -1.09239175e-02,   3.60403012e-03,\n",
       "          3.43362334e-03,  -1.21053978e-02,  -3.18632563e-03,\n",
       "         -5.17755852e-03,   6.94484488e-04,  -7.95677189e-04,\n",
       "          1.34208362e-01,   2.90533642e-04,  -2.08350093e-03,\n",
       "         -1.99854885e-02],\n",
       "       [ -5.88601066e-03,  -4.70180981e-03,   1.78828598e-03,\n",
       "         -3.16691008e-03,  -7.32843061e-03,   1.09730190e-03,\n",
       "          1.86751379e-03,   6.02936029e-02,   4.49657661e-04,\n",
       "         -6.94259673e-04,  -3.25418687e-03,  -4.96567311e-03,\n",
       "          2.90533642e-04,   1.25530834e-01,  -3.12989446e-03,\n",
       "         -7.82625971e-03],\n",
       "       [ -2.72535838e-03,   2.55687631e-03,  -1.35204986e-03,\n",
       "          7.54285303e-04,  -4.70745253e-03,  -4.70792912e-03,\n",
       "         -5.47703432e-04,  -3.05443262e-01,  -7.65942531e-03,\n",
       "         -4.17992411e-03,  -1.49880840e-03,  -4.81840402e-04,\n",
       "         -2.08350093e-03,  -3.12989446e-03,   1.87505275e-01,\n",
       "         -5.61323715e-03],\n",
       "       [ -3.09443734e-03,   1.19178489e-04,  -3.96693585e-03,\n",
       "          1.83540704e-03,  -6.13076656e-03,  -7.35691120e-03,\n",
       "         -3.84367587e-03,  -2.02083736e-01,  -9.01303532e-05,\n",
       "          1.60648966e-03,  -1.30462407e-02,  -6.41803920e-03,\n",
       "         -1.99854885e-02,  -7.82625971e-03,  -5.61323715e-03,\n",
       "          2.58262301e-01]])"
      ]
     },
     "execution_count": 32,
     "metadata": {},
     "output_type": "execute_result"
    }
   ],
   "source": [
    "np.dot(U,np.dot(G,U.T))"
   ]
  },
  {
   "cell_type": "markdown",
   "metadata": {},
   "source": [
    "As proved in Theorem 1, only the lower right quadrant of this matrix is non-zero; moreover this quadrant is positive."
   ]
  },
  {
   "cell_type": "code",
   "execution_count": 33,
   "metadata": {},
   "outputs": [
    {
     "data": {
      "text/plain": [
       "array([ 0.06478986,  0.06535745,  0.065833  ,  0.06593233,  0.12597477,\n",
       "        0.13473221,  0.18835417])"
      ]
     },
     "execution_count": 33,
     "metadata": {},
     "output_type": "execute_result"
    }
   ],
   "source": [
    "Gred=np.dot(U,np.dot(G,U.T))[8:15].T[8:15]\n",
    "scipy.linalg.eigvalsh(Gred)"
   ]
  },
  {
   "cell_type": "markdown",
   "metadata": {},
   "source": [
    "This code has exponential complexity in $d$ (both in time and in memory). There is numerical evidence that the spectral gap of the Markov chain is uniform in $d$ (as long as the coefficients $C$ are uniformly away from zero and infinity), and the code works on a laptop up to $d=9$ or $10$."
   ]
  },
  {
   "cell_type": "code",
   "execution_count": 40,
   "metadata": {},
   "outputs": [
    {
     "name": "stdout",
     "output_type": "stream",
     "text": [
      "Markov chain convergence after 76 steps\n",
      "Equilibrium measure:  [ 0.00182074  0.00171958  0.00226584  0.0014632   0.00231165  0.00163143\n",
      "  0.00166615  0.00146926  0.00212249  0.00191125  0.00193759  0.00141323\n",
      "  0.00211753  0.00120598  0.0017097   0.00156215  0.00174398  0.00248309\n",
      "  0.00171972  0.00231592  0.00166662  0.00229871  0.00197373  0.00120172\n",
      "  0.00191208  0.00222087  0.00141419  0.0018427   0.00203398  0.0015287\n",
      "  0.00166264  0.00152818  0.00205464  0.0018762   0.00244509  0.00284443\n",
      "  0.00185977  0.00205537  0.00221001  0.00179184  0.0021826   0.00123072\n",
      "  0.00205751  0.00210923  0.00202925  0.00203106  0.00150642  0.00158941\n",
      "  0.00204368  0.00212084  0.00132315  0.00249355  0.00247656  0.00182442\n",
      "  0.00254107  0.00181021  0.00195086  0.00183609  0.00228872  0.00191343\n",
      "  0.00282291  0.0018159   0.00142802  0.0026794   0.00159307  0.00199645\n",
      "  0.00196948  0.00162603  0.00244129  0.00229253  0.0025905   0.0027909\n",
      "  0.00185204  0.00229168  0.00292287  0.00184314  0.00179025  0.00167287\n",
      "  0.00197188  0.00149402  0.00158403  0.00260014  0.00117483  0.00158126\n",
      "  0.00227614  0.00240011  0.00228841  0.00199589  0.00214255  0.00131948\n",
      "  0.00159705  0.0021868   0.00177656  0.00180375  0.00160163  0.00151739\n",
      "  0.00144288  0.00287124  0.00212351  0.00159015  0.00135988  0.00189132\n",
      "  0.00264445  0.00266209  0.00238811  0.00182233  0.00141831  0.00197444\n",
      "  0.00193331  0.00218848  0.00174873  0.00233014  0.00148464  0.00213652\n",
      "  0.0019828   0.00181789  0.00162677  0.0023608   0.00184469  0.00223353\n",
      "  0.00220672  0.00214329  0.00179007  0.00237229  0.0021406   0.00165441\n",
      "  0.00214387  0.00184124  0.00172811  0.00181065  0.00190829  0.00159596\n",
      "  0.00200196  0.00157249  0.00199023  0.00150183  0.00283258  0.00225076\n",
      "  0.00199373  0.00176332  0.00230382  0.00265721  0.00253662  0.00278824\n",
      "  0.0012759   0.00179376  0.00274975  0.00161681  0.00192273  0.00275499\n",
      "  0.00162367  0.00157848  0.00170333  0.0020718   0.00192003  0.00204529\n",
      "  0.00219366  0.00179578  0.0017681   0.0015112   0.00154827  0.00155966\n",
      "  0.00246325  0.00268183  0.00152769  0.00123326  0.00189443  0.00241045\n",
      "  0.00207869  0.00215239  0.00220179  0.00179722  0.00201572  0.00193141\n",
      "  0.00157251  0.00182535  0.00231192  0.00165787  0.00179112  0.00130437\n",
      "  0.00222131  0.00125325  0.00190884  0.00192446  0.00186941  0.00188139\n",
      "  0.00169698  0.00159641  0.00171535  0.00178478  0.00204674  0.00175496\n",
      "  0.00169964  0.00191544  0.00217447  0.00228292  0.00171036  0.00196821\n",
      "  0.00179875  0.00212426  0.00210776  0.00162577  0.00153627  0.00214856\n",
      "  0.00297075  0.00171897  0.00171668  0.00230192  0.00262747  0.00231652\n",
      "  0.00199065  0.00204184  0.00174804  0.00096097  0.00167941  0.00179839\n",
      "  0.00183129  0.00214661  0.0020734   0.00313493  0.00187916  0.00211229\n",
      "  0.00220283  0.00198168  0.00178339  0.00164796  0.00170018  0.00272871\n",
      "  0.00198408  0.00178107  0.00174924  0.00184431  0.00143218  0.00155266\n",
      "  0.00229809  0.001869    0.0023847   0.00183263  0.00227553  0.00155863\n",
      "  0.00219081  0.00187927  0.00219049  0.00161242  0.00165426  0.00234739\n",
      "  0.00209173  0.00187538  0.00249652  0.00202148  0.00162906  0.00138553\n",
      "  0.00194221  0.00199895  0.0016554   0.0023544   0.00171958  0.00200946\n",
      "  0.00167724  0.00167221  0.00172209  0.0017194   0.00165736  0.0018026\n",
      "  0.00210458  0.00212439  0.00202774  0.00176221  0.00201542  0.0020509\n",
      "  0.00185297  0.00162867  0.00218686  0.00280644  0.00219542  0.00168593\n",
      "  0.00174669  0.00186802  0.00208658  0.00189411  0.00225244  0.00159583\n",
      "  0.00288679  0.00250858  0.00175297  0.00267346  0.00297617  0.00257924\n",
      "  0.00153488  0.00171931  0.00228872  0.00253697  0.00228394  0.00271065\n",
      "  0.00125311  0.00167405  0.00200157  0.00152537  0.00261875  0.00217506\n",
      "  0.00143278  0.00175279  0.00207389  0.00152961  0.00227044  0.00159282\n",
      "  0.00192805  0.00281299  0.00173388  0.00156833  0.00158073  0.00226866\n",
      "  0.0016703   0.0019646   0.00169885  0.00216479  0.0015271   0.00234646\n",
      "  0.00236698  0.00130571  0.00194569  0.0015078   0.00160496  0.00186602\n",
      "  0.00264205  0.00146453  0.00237053  0.00253395  0.00121763  0.00207489\n",
      "  0.00175485  0.001359    0.00198488  0.00229245  0.00201757  0.00178528\n",
      "  0.0015239   0.00254494  0.00158612  0.00272362  0.00195493  0.0015989\n",
      "  0.00165872  0.00140197  0.00182723  0.001776    0.00187751  0.00164651\n",
      "  0.00197424  0.00148964  0.0018985   0.00228431  0.0021722   0.00158615\n",
      "  0.00155506  0.00233286  0.00237364  0.00179351  0.00204526  0.00135651\n",
      "  0.00255588  0.00221015  0.0012907   0.00150336  0.00204459  0.00301984\n",
      "  0.00224272  0.00185438  0.00194671  0.00229237  0.00178235  0.00177566\n",
      "  0.00135808  0.0018063   0.00237263  0.00160063  0.00186336  0.00165962\n",
      "  0.00221159  0.00159482  0.00237741  0.00136019  0.00179729  0.00216856\n",
      "  0.00200093  0.0015388   0.0015332   0.001864    0.00222701  0.00221747\n",
      "  0.0020761   0.00197981  0.00216071  0.00163059  0.00162099  0.00221737\n",
      "  0.00154445  0.00273816  0.00188981  0.00276717  0.00197828  0.00303194\n",
      "  0.00224484  0.00131035  0.00160421  0.00203882  0.00156191  0.00202502\n",
      "  0.00215993  0.00266924  0.00138218  0.0018041   0.00144124  0.00206786\n",
      "  0.00210547  0.00216149  0.00190521  0.00191133  0.00164333  0.00222266\n",
      "  0.00176483  0.00188059  0.0023829   0.00139239  0.00199016  0.00215735\n",
      "  0.00135204  0.00126348  0.00158752  0.0015926   0.00189138  0.00235746\n",
      "  0.00144643  0.00223005  0.00237603  0.0020974   0.00254472  0.00154081\n",
      "  0.00315559  0.00217264  0.00236967  0.00167661  0.00146739  0.00237685\n",
      "  0.00180764  0.00202162  0.00169085  0.0022109   0.00184009  0.00148177\n",
      "  0.00227     0.00177299  0.00208094  0.00187014  0.00248385  0.00253272\n",
      "  0.00290246  0.00192941  0.00210676  0.00143837  0.00185842  0.00146731\n",
      "  0.00179242  0.00196504  0.00118907  0.00154947  0.00165477  0.00173345\n",
      "  0.00239947  0.00165454  0.00150071  0.00245045  0.00184519  0.00232682\n",
      "  0.00201213  0.0021933   0.00216712  0.00173196  0.00162643  0.00192007\n",
      "  0.00153847  0.00239503  0.0022509   0.00228787  0.0028478   0.00176406\n",
      "  0.00157649  0.00191316  0.00130635  0.00183556  0.00175592  0.00208216\n",
      "  0.00178732  0.00237281  0.00162355  0.00198786  0.00174269  0.0026595\n",
      "  0.00242137  0.00187723  0.00148765  0.00149069  0.00206841  0.00173603\n",
      "  0.00190567  0.00227712  0.00134928  0.0024189   0.00224058  0.00176922\n",
      "  0.0023544   0.00228699]\n"
     ]
    },
    {
     "data": {
      "image/png": "[encoded data removed]",
      "text/plain": [
       "<matplotlib.figure.Figure at 0x9fc15e2c>"
      ]
     },
     "metadata": {},
     "output_type": "display_data"
    }
   ],
   "source": [
    "import matplotlib.pyplot as plt\n",
    "C=generate_C(9)\n",
    "G=curvature(C)\n",
    "U=np.dot(fullbasis(9),rotation(9))\n",
    "Gred=np.dot(U,np.dot(G,U.T))[2**8:2**9-1].T[2**8:2**9-1]\n",
    "vals=scipy.linalg.eigvalsh(Gred)\n",
    "plt.plot(np.log(vals),'ro')\n",
    "plt.show()"
   ]
  },
  {
   "cell_type": "markdown",
   "metadata": {},
   "source": [
    "# Appendix\n",
    "## Lemmas: the structure of the null space"
   ]
  },
  {
   "cell_type": "markdown",
   "metadata": {},
   "source": [
    "**Lemma 1** Let $ls$ be the operator of left shift on $(\\mathbb{C}^2)^{\\otimes d}$, which acts on product states as $$ls(v_1\\otimes \\ldots\\otimes v_d)=v_2\\otimes \\ldots \\otimes v_d\\otimes v_1.$$\n",
    "Then $$Ker(\\sum_{k=0}^{d-1}(ls)^k)=Im(Id-ls).$$"
   ]
  },
  {
   "cell_type": "markdown",
   "metadata": {},
   "source": [
    "**Proof of lemma 1**"
   ]
  },
  {
   "cell_type": "markdown",
   "metadata": {},
   "source": [
    "**Lemma 2** Let $(a,b)$ an orthonormal basis of $\\mathbb{C}^2$. Let $E$ be the following subspace of $(\\mathbb{C}^2)^{\\otimes d}$: $$E=\\{a\\otimes v-v\\otimes a\\,|v\\in (\\mathbb{C}^2)^{\\otimes d-1}\\}.$$ Let $$F=\\{b\\otimes v\\otimes b\\,|v\\in (\\mathbb{C}^2)^{\\otimes d-2}\\}.$$ Moreover, for a word $w\\in \\{a,b\\}^d$, to which we naturally associate an element of $(\\mathbb{C}^2)^{\\otimes d}$, we let $k(w)$ be the minimal $k$ such that $ls(w)$ begins with an $a$. We then define $$G=Span\\{\\sum_{i=0}^{k(awb)}(ls)^i(awb)\\,|w\\text{ of length d-2}\\}.$$\n",
    "\n",
    "Then the four following spaces are in direct orthogonal sum: $$(\\mathbb{C}^2)^{\\otimes d}=E\\oplus F\\oplus G\\oplus \\mathbb{C}(b\\otimes \\ldots \\otimes b).$$"
   ]
  },
  {
   "cell_type": "markdown",
   "metadata": {},
   "source": [
    "**Proof of lemma 2**"
   ]
  },
  {
   "cell_type": "markdown",
   "metadata": {},
   "source": [
    "**Lemma 3** If $(a,b)$ is an orthonormal basis of $\\mathbb{C}^2$, then $$\\{a\\otimes v - v\\otimes a|v\\in (\\mathbb{C}^2)^{\\otimes d-1}\\}=Im(Id-ls)\\cap \\{b\\otimes w \\otimes b|w\\in (\\mathbb{C}^2)^{\\otimes d-1}\\}^{\\perp}.$$"
   ]
  },
  {
   "cell_type": "markdown",
   "metadata": {},
   "source": [
    "**Proof of lemma 3**"
   ]
  }
 ],
 "metadata": {
  "kernelspec": {
   "display_name": "Python 2",
   "language": "python",
   "name": "python2"
  },
  "language_info": {
   "codemirror_mode": {
    "name": "ipython",
    "version": 2
   },
   "file_extension": ".py",
   "mimetype": "text/x-python",
   "name": "python",
   "nbconvert_exporter": "python",
   "pygments_lexer": "ipython2",
   "version": "2.7.12"
  }
 },
 "nbformat": 4,
 "nbformat_minor": 2
}
